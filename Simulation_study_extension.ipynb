{
 "cells": [
  {
   "cell_type": "markdown",
   "id": "7ad52644",
   "metadata": {},
   "source": [
    "<div style=\"text-align:center\">\n",
    "  <h1>Reducing Estimation Errors in Forecast Combination: Covariance Matrix Estimation and Trimming Methods</h1>\n",
    "  <h3>Yannick van Etten (2688877)</h3>\n",
    "  <h3>Bachelor Thesis Econometrics and Operations Research</h3>\n",
    "  <h3>Thesis commission: Dr. L. Hoesch  (supervisor) and Xia Zou  (co-reader)</h3>\n",
    "</div>\n"
   ]
  },
  {
   "cell_type": "markdown",
   "id": "d9fce3f5",
   "metadata": {},
   "source": [
    "<div style=\"text-align:center\">\n",
    "  <h4>Simulation study Radchenko et al. (2023)</h4>\n",
    "</div>"
   ]
  },
  {
   "cell_type": "markdown",
   "id": "edbe7811",
   "metadata": {},
   "source": [
    "This Jupyter Notebook is part of the bachelor thesis by Yannick van Etten. Several methods are evaluated to reduce the estimation errors. In the previous Notebook the trimming method of Radchenko et al. (2023) was evaluated and replicated. This Notebook focusses on the performance of different covariance estimation methdods. Specially, the linear shrinkage method and the factor model method. These methods are evaluated on the hand of the mean squared forecasting error (MSFE) of a forecast combination. The trimming method is applied on the weights obtain by the usage of these alternative covariance estimation methods.\n",
    "\n",
    "This Notebook starts with theory and general functions used in the simulation are discussed. The setting of the simulation is similar to the replicated setting of Radchenko et al. (2023), so some parts/functions will coincide. However, instead of two forecasts, 25 forecasts are available. The number of forecasters is increased to create a more similar high dimensional setting where the number of forecasts is similar to the number of observations. This setting resembles the empirical application of Radchenko et al. (2023). \n",
    "\n",
    "In the simulation study the influence of the shrinkage factor in the linear shrinkage method on the MSFE is determined in a simulation study in a high dimensional setting. A optimal shrinkage value is picked. Therafter, the MSFE function conditional on the trimming threshold is calculated and plotted. This MSFE function is determined three times, each time using a different covariance estimation method. Starting, with the usual sample covariance estimation method. Following, the linear shrinkage method. Lastly, the factor model method.\n"
   ]
  },
  {
   "cell_type": "code",
   "execution_count": 61,
   "id": "8247346e",
   "metadata": {},
   "outputs": [],
   "source": [
    "import numpy as np\n",
    "import matplotlib.pyplot as plt"
   ]
  },
  {
   "cell_type": "markdown",
   "id": "76ab3151",
   "metadata": {},
   "source": [
    "<div style=\"text-align:center\">\n",
    "  <h3>General theory and functiond for the simulation study</h3>\n",
    "</div>"
   ]
  },
  {
   "cell_type": "markdown",
   "id": "0ddb2807",
   "metadata": {},
   "source": [
    "In this simulation study, a time series is generated based on an AR(1) process:\n",
    "$$\n",
    "z_t = \\phi_1 z_{t-1}+\\eta_t \\quad\\quad t=1,\\dots,T+1\n",
    "$$\n",
    "The error ${\\eta_t}$ are independent and identically distributed from a standard normal distribution. The parameter $\\phi_1$ is chosen to satisfy $|\\phi_1|<1$. In total $n$ time series will be generated. To improve the efficiency of the simulation this done in one time, to create one matrix contraining all the timeseries of length $T+1$.\n",
    "\n",
    "The aim is to have the same number of available error observations as in Radchenko et al. (2023) to estimate the covariance matrix using forecast errors. In their study, 28 error observations were available with sample size $T = 30$, considering the use of $z_{t-2}$ for the $y_2$ forecast. In our simulation, $z_{t-25}$ is used, so to ensure 28 error observations for all forecasts, the sample size $T$ is set at $T= 28 + 25 = 53$."
   ]
  },
  {
   "cell_type": "code",
   "execution_count": 142,
   "id": "91bbede8",
   "metadata": {},
   "outputs": [],
   "source": [
    "def simulate_ar1(phi, T, n, n_forecasts):\n",
    "    \"\"\"\n",
    "    Simulates an autoregressive process of order 1 (AR(1)). \n",
    "\n",
    "    Input:\n",
    "        phi (float): The autoregressive coefficient.\n",
    "        T (int): The number of observations used to estimate the weights used in the forecast combination for T+1.\n",
    "        n (int): The number of simulations.\n",
    "        n_forecasts (int): The number of forecasts. Previously this was two.\n",
    "\n",
    "    Returns:\n",
    "        ar (ndarray): A numpy array of shape (n, T + n_forecasts - 1) containing the simulated AR(1) process.\n",
    "\n",
    "    \"\"\"\n",
    "    ar = np.zeros((n, T + n_forecasts - 1))  # Create an array to store the simulated process\n",
    "    seed_value = 777\n",
    "    np.random.seed(seed_value)  # Set a seed value for reproducibility\n",
    "    ar[:, 0] = np.random.normal(0, 1, size=n)  # Set initial values from a standard normal distribution\n",
    "\n",
    "    for t in range(1, T + n_forecasts - 1):\n",
    "        ar[:, t] = phi * ar[:, t - 1] + np.random.normal(0, 1, size=n)  # Generate AR(1) values for each time period\n",
    "\n",
    "    return ar"
   ]
  },
  {
   "cell_type": "markdown",
   "id": "ce8b656f",
   "metadata": {},
   "source": [
    "The auto-correlation coefficient function $\\rho_i$ is defined as the correlation between observations $z_t$ and $z_{t-i}$, given by:\n",
    "\\begin{align*}\n",
    "    \\rho_i &= \\text{corr}(z_t,z_{t-i}) = \\phi_1^i\n",
    "\\end{align*}\n",
    "In the previous simulation study, only the values of $\\rho_1$ and  $\\rho_2$ were provided and used to generate the first two forecasts:\n",
    "\\begin{align*}\n",
    "    y_1 &= z_T && \\quad\\quad\\quad y_2 = \\rho_2 z_{T-1}\n",
    "\\end{align*}\n",
    "However, in this current simulation study, 23 additional forecasts are included. These additional forecasts, denoted as $y_i$ for $i\\in {3, \\dots, 25}$, are based on the unbiased forecast $y_2$. Specifically, the formula for generating these additional forecasts is:\n",
    "\\begin{align*}\n",
    "    y_i &=  \\rho_i z_{T-i}\n",
    "\\end{align*}"
   ]
  },
  {
   "cell_type": "markdown",
   "id": "58f29702",
   "metadata": {},
   "source": [
    "Given these characteristic, it is possible to determine the true covariance matrix of the forecast errors. This way the estimated covariance matrices can be evaluated by determining the difference. The true covariance matrix\n",
    "\n",
    "Since forecasts $2$ till $25$ have a same unbiased property, they also have a similar forecast error variance structure. The properties of forecast $1$ and forecasts $i\\in{2,\\dots,25}$ will be explicitly examined. All the derivations are written out in the appendix. The forecast $1$ has an error of $e_{1t}=z_t-z_{t-1}$ and the additional forecasts have an error of $e_{it}=z_t-\\rho_i$ for $i\\in{2,\\dots,25}$. The final forecast error are:\n",
    "\\begin{align*}\n",
    "    e_1 &= e_{1,T+1}=z_{T+1}-y_1 && \\quad\\quad\\quad e_i = e_{i,T+1}=z_{T+1}-y_i\\\\\n",
    "    e_1 &=z_{T+1}-z_T && \\quad\\quad\\quad e_i=z_{T+1}-\\rho_i z_{T-i}\n",
    "\\end{align*}\n",
    "This leads to the following forecast error variances:\n",
    "\\begin{align*}\n",
    "    \\sigma_1^2 &= \\text{var}(e_1)=2(1-\\rho_1)\\sigma_z^2 && \\sigma_i^2 = \\text{var}(e_i)=(1-\\rho_i^2)\\sigma_z^2\n",
    "\\end{align*}\n",
    "Since there are two types of forecasts, namely $y_1$ and the unbiased forecasts $y_i$ for $i\\in{2,\\dots,25}$, there are two formulas to determine the true covariance. The first formula calculates covariance between forecast error $e_1$ and the forecast error $e_i$ of an unbiased forecast, given by:\n",
    "$$\n",
    "\\text{cov}(e_1,e_i)=\\sigma_z^2 (1 - \\rho_1 -\\rho_i^2  + \\rho_i \\rho_{i-1})\n",
    "$$\n",
    "The second formula calculates the covariance between error of two unbiased forecasts, where $i,j>1$ and $i\\le j$, given by:\n",
    "$$\n",
    "\\text{cov}(e_i,e_j)= \\sigma_z^2(1 -\\rho_i^2 - \\rho_j^2 + \\rho_i\\rho_j\\rho_{j-i})\n",
    "$$"
   ]
  },
  {
   "cell_type": "code",
   "execution_count": 143,
   "id": "cf9e258f",
   "metadata": {},
   "outputs": [],
   "source": [
    "def calc_true_cov(phi, n_forecasters):\n",
    "    \"\"\"\n",
    "    Calculates the true covariance matrix for a given autoregressive coefficient and number of forecasters.\n",
    "\n",
    "    Input:\n",
    "        phi (float): The autoregressive coefficient.\n",
    "        n_forecasters (int): The number of forecasters.\n",
    "\n",
    "    Returns:\n",
    "        true_cov (ndarray): A numpy array of shape (n_forecasters, n_forecasters) containing the true covariance matrix.\n",
    "\n",
    "    \"\"\"\n",
    "    sigma2_z = 1 / (1 - phi**2)  # Calculate the variance of the AR(1) process\n",
    "    true_cov = np.zeros((n_forecasters, n_forecasters))  # Create an array to store the true covariance matrix\n",
    "\n",
    "    # Calculate the diagonal elements of the covariance matrix\n",
    "    true_cov[0, 0] = 2 * (1 - phi) * sigma2_z\n",
    "    for i in range(1, n_forecasters):\n",
    "        k = i + 1            # to adjust for index\n",
    "        true_cov[i, i] = (1 - phi**(2*k)) * sigma2_z\n",
    "\n",
    "        # Calculate the off-diagonal elements of the covariance matrix\n",
    "        true_cov[i, 0] = sigma2_z * (1 - phi - phi**(2*i) + phi**i * phi)\n",
    "        true_cov[0, i] = true_cov[i, 0]\n",
    "\n",
    "        for j in range(i + 1, n_forecasters):\n",
    "            l = j + 1  # again to adjust for index\n",
    "            true_cov[j, i] = sigma2_z * (1 - phi**(2*k) - phi**(2*l) + phi**k * phi**(l) * phi**(abs(k - l)))\n",
    "            true_cov[i, j] = true_cov[j, i]\n",
    "    return true_cov"
   ]
  },
  {
   "cell_type": "markdown",
   "id": "6b60770d",
   "metadata": {},
   "source": [
    "Before it is possible to estimate the covariance matrix. It is necessary to calculate the forecast erros, since the matrices are based on these errors. In the following function a list with forecasts for $z_{T+1}$, a list with previous forecasts, a list with the forecast error for alle forecasts and a matrix mu with the true $z_{T+1}$ are all determined."
   ]
  },
  {
   "cell_type": "code",
   "execution_count": 144,
   "id": "f451113e",
   "metadata": {},
   "outputs": [],
   "source": [
    "def calc_forecast_errors(z, rho, n_forecasters):\n",
    "    \"\"\"\n",
    "    Calculates the forecast errors for a given time series, autocorrelation coefficient and the number of forecasters.\n",
    "\n",
    "    Input:\n",
    "        z (ndarray): A numpy array of shape (n, T+n_forecasts-1) representing the time series.\n",
    "        rho (float): The autocorrelation coefficient.\n",
    "        n_forecasters (int): The number of forecasters.\n",
    "\n",
    "    Returns:\n",
    "        y_all (list): A list of numpy arrays containing the forecasts for z_T+1.\n",
    "        Y_all (list): A list of numpy arrays containing the previous forecasts for all forecaster.\n",
    "        errors (list): A list of numpy arrays representing the forecast errors for each forecaster.\n",
    "        mu (ndarray): A numpy array of shape (n, n_forecasts) containing the true values at T+1 to be forecasted\n",
    "\n",
    "    \"\"\"\n",
    "    phi = -1 * np.sqrt(rho)  # Calculate the AR(1) coefficient based on the given autocorrelation coefficient\n",
    "    z_copy = z.copy()\n",
    "    remove = np.arange(n_forecasters - 1)  # Indices to remove from the time series\n",
    "\n",
    "    VY1 = np.delete(z_copy, remove, axis=1)  #to make sure we have the same number of forecasts to evaluate\n",
    "    mu = z[:, n_forecasters:]    # Extract the true values to be forecasted\n",
    "\n",
    "    errors = []  # List to store the forecast errors for each forecaster\n",
    "    Y_all = []  # List to store the previous forecasts for each forecaster\n",
    "    y_all = []  # List to store the forecasts for T+1\n",
    "\n",
    "    y_all.append(VY1[:, -1])  # Append the T+1 forecast to the list for the first forecast\n",
    "    VY1 = np.delete(VY1, -1, axis=1)  # Remove the T+1 forecast from the time series\n",
    "\n",
    "    errors.append(mu - VY1)  # Calculate the forecast errors at the T+1 for the first forecast\n",
    "    Y_all.append(VY1)\n",
    "\n",
    "    for i in range(1, n_forecasters): \n",
    "        VY = phi**(i + 1) * z[:, (n_forecasters - 1 - i):-i]  # Generate the forecasts for each forecaster 2 till 25\n",
    "        y_all.append(VY[:, -1])  # Append the T+1 forecast to the list\n",
    "        VY = np.delete(VY, -1, axis=1)  # Remove the T+1 forecast from the time series\n",
    "        errors.append(mu - VY)  # Calculate the forecast errors for each forecaster\n",
    "        Y_all.append(VY)\n",
    "\n",
    "    return y_all, Y_all, errors, mu"
   ]
  },
  {
   "cell_type": "markdown",
   "id": "57296e47",
   "metadata": {},
   "source": [
    "On the hand of the covariance matrix, the weights for the forecast combination can be calculated. The variance of the forecast combination is given by:\n",
    "$$\n",
    "\\text{var}(y_c)=w'\\Sigma w\n",
    "$$\n",
    "This variance is minimized, resulting in the optimal weights:\n",
    "\\begin{equation}\n",
    "w^*=\\frac{\\Sigma^{-1}}{\\mathbf{1}'\\Sigma^{-1}\\mathbf{1}}\n",
    "\\end{equation}\n",
    "where $\\mathbf{1}$ represents a vector of ones. To determine the theoretical optimal weights, the true covariance in inserted. The estimated covariance estimate can also be used, resulting in estimated optimal weights."
   ]
  },
  {
   "cell_type": "code",
   "execution_count": 145,
   "id": "45313765",
   "metadata": {},
   "outputs": [],
   "source": [
    "def calc_cov_w(Mcov):\n",
    "    \"\"\"\n",
    "    Calculates the covariance matrix of the weight vectors.\n",
    "\n",
    "    Input:\n",
    "        Mcov (ndarray): A square numpy array of shape (n_forc, n_forc) representing the covariance matrix of forecast errors.\n",
    "\n",
    "    Returns:\n",
    "        cov_w (ndarray): A square numpy array of shape (n_forc, n_forc) representing the covariance matrix of the weight vectors.\n",
    "    \"\"\"\n",
    "    n_forc = len(Mcov)\n",
    "    cov_inv = np.linalg.inv(Mcov)  # Calculate the inverse of the covariance matrix\n",
    "    ones = np.ones(n_forc).reshape(-1, 1)  # Create a column vector of ones\n",
    "    w = 1 / float(ones.T @ (cov_inv @ ones)) * cov_inv @ ones  # Calculate the weight vector\n",
    "    return w"
   ]
  },
  {
   "cell_type": "markdown",
   "id": "b625fc16",
   "metadata": {},
   "source": [
    "The covariance matrix is estimated with three different methods. The first method is the sample covariance method. This method is similar to the method used in Radchenko et al. (2023). But extended to 25 forecasts. The error means are calculates as: $\\overline{e_i}=\\frac{1}{T-25}\\sum\\nolimits^{T-1}_{t=25}e_{1,t+1}$. All necessary tools are now present to determine the sample covariance matrix,$\\widehat{\\Sigma}_{sample}$ by:\n",
    "\\begin{align*}\n",
    "\\widehat{\\Sigma}_{sample} &=\n",
    "    \\begin{pmatrix}\n",
    "    \\widehat{\\sigma}_1^2 & \\widehat{\\rho}_{12}\\widehat{\\sigma}_1\\widehat{\\sigma}_2& \\dots &\\widehat{\\rho}_{1,25}\\widehat{\\sigma}_1\\widehat{\\sigma}_{25} \\\\\n",
    "    \\widehat{\\rho}\\widehat{\\sigma}_1\\widehat{\\sigma}_2 & \\widehat{\\sigma}_2^2& &\\\\\n",
    "    \\vdots & &\\ddots & \\vdots\\\\\n",
    "    \\widehat{\\rho}_{1,25}\\widehat{\\sigma}_1\\widehat{\\sigma}_{25}& \\dots & & \\widehat{\\sigma}_{25}^2\n",
    "    \\end{pmatrix} \\\\\n",
    "    &= \\frac{1}{T-26}\\times \\sum\\limits^{T-1}_{t=25} \n",
    "    \\begin{pmatrix}\n",
    "    (e_{1,t+1}-\\overline{e_1})^2 & (e_{1,t+1}-\\overline{e_1})(e_{2,t+1}-\\overline{e_2}) &\\dots\\\\\n",
    "    (e_{1,t+1}-\\overline{e_1})(e_{2,t+1}-\\overline{e_2}) & (e_{2,t+1}-\\overline{e_2})^2&\\\\\n",
    "    \\vdots & & \\ddots\n",
    "    \\end{pmatrix}\n",
    "\\end{align*}\n",
    "\n",
    "In the function were the sample covariance matrix is estimated, the estimated optimal weights are calculated at the same time."
   ]
  },
  {
   "cell_type": "code",
   "execution_count": 146,
   "id": "3484c2e9",
   "metadata": {},
   "outputs": [],
   "source": [
    "def est_cov_sample(Merror):\n",
    "    \"\"\"\n",
    "    Estimates the sample covariance matrix of the forecast errors.\n",
    "\n",
    "    Input:\n",
    "        Merror (list): A list of numpy arrays, each representing the forecast errors for a forecaster.\n",
    "\n",
    "    Returns:\n",
    "        Mcov (ndarray): A square numpy array of shape (n_forecasters, n_forecasters) representing the estimated\n",
    "                        covariance matrix of forecast errors.\n",
    "        Vw (ndarray): A numpy array of shape (n_forecasters, n_forecasters) containing the weight vectors.\n",
    "\n",
    "    \"\"\"\n",
    "    T = len(Merror[0][0])   # the length of the error vector of the forecasts\n",
    "    \n",
    "    Vp = []\n",
    "    Mcov = np.array(np.zeros((len(Merror), len(Merror))), dtype=object)\n",
    "\n",
    "    for i in range(len(Merror)): # Iterate over each forecast\n",
    "        et = Merror[i]\n",
    "        e_bar = np.mean(et, axis=1)\n",
    "\n",
    "        # Calculate the diagonal element of the covariance matrix\n",
    "        Mcov[i, i] = np.sum(np.power(et - e_bar[:, np.newaxis], 2), axis=1) / (T - 1)\n",
    "        Vp.append(et - e_bar[:, np.newaxis]) # Compute the residuals and store them in the list\n",
    "\n",
    "        for j in range(i):\n",
    "            Mcov[i, j] = np.sum(Vp[i] * Vp[j], axis=1) / (T - 1) # Calculate the off-diagonal covariance elements\n",
    "            Mcov[j, i] = Mcov[i, j]  # by symmetry\n",
    "\n",
    "    Vw = np.empty((0, len(Merror)))\n",
    "\n",
    "    for k in range(len(Merror[0])): # Iterate over each specific forecast\n",
    "        Mcov2 = np.array(np.zeros((len(Merror), len(Merror))))\n",
    "\n",
    "        for i in range(len(Merror)):\n",
    "            Mcov2[i, i] = Mcov[i, i][k]\n",
    "\n",
    "            for j in range(i):\n",
    "                Mcov2[i, j] = Mcov[i, j][k]\n",
    "                Mcov2[j, i] = Mcov2[i, j]\n",
    "        w2 = calc_cov_w(Mcov2) # Calculate the est opt weights using the covariance matrix\n",
    "        Vw = np.vstack((Vw, w2.T))\n",
    "        \n",
    "    return Mcov, Vw"
   ]
  },
  {
   "cell_type": "markdown",
   "id": "5cb4c352",
   "metadata": {},
   "source": [
    "A second method to determine the covariance matrix, is the linear shrinkage methods. In this setting the following linear shrinkage estimator, $\\widehat{\\Sigma}_{LS}$, is determined by:\n",
    "$$\n",
    "\\widehat{\\Sigma}_{LS} = \\delta \\widehat{\\mu}_p I_p + (1-\\delta) \\widehat{\\Sigma}_{sample}\n",
    "$$\n",
    "As stated in the thesis, the paper of Ledoit and Wolf (2004) is followed for the estimation of parameter $\\mu_p$, with $\\widehat{\\mu}_p=\\langle \\widehat{\\Sigma}_{sample},I_p \\rangle$. In this calculation $\\delta$ is defined as the shrinkage coefficient, or the shrinkage intensity. If $\\delta \\approx 1$, it means that the identity matrix is fully utilized and the sample covariance matrix has minimal influence. On the other hand, if $\\delta \\approx 0$, the original sample covariance matrix is used without much influence of the identity matrix."
   ]
  },
  {
   "cell_type": "code",
   "execution_count": 147,
   "id": "bee028b0",
   "metadata": {},
   "outputs": [],
   "source": [
    "def est_cov_shrinkage(sample_covariance, shrink_value):\n",
    "    \"\"\"\n",
    "    Estimates the covariance matrix with the linear shrinkage method.\n",
    "\n",
    "    Input:\n",
    "        sample_covariance (ndarray): A square numpy array of shape (n_forecasters, n_forecasters) representing the sample covariance matrix.\n",
    "        shrink_value (float): The shrinkage coefficient.\n",
    "\n",
    "    Returns:\n",
    "        shrinkage_covariance (ndarray): A square numpy array of shape (n_forecasters, n_forecasters) representing the estimated covariance matrix with shrinkage.\n",
    "        w (ndarray): A numpy array of shape (n_forecasters, 1) representing the weights calculated from the shrinkage covariance matrix.\n",
    "    \"\"\"\n",
    "    n_forecasters = len(sample_covariance)\n",
    "    \n",
    "    diag_elements = np.diag(sample_covariance)  # Extract diagonal elements from the sample covariance matrix\n",
    "    m_star = np.mean(diag_elements)  # Calculate the mean of the diagonal elements\n",
    "    shrinkage_covariance = (\n",
    "        shrink_value * np.eye(n_forecasters) * m_star\n",
    "        + (1 - shrink_value) * sample_covariance\n",
    "    )  # Estimate the covariance matrix with shrinkage\n",
    "\n",
    "    w = calc_cov_w(shrinkage_covariance)  # Calculate the weights based on the shrinkage covariance matrix\n",
    "\n",
    "    return shrinkage_covariance, w"
   ]
  },
  {
   "cell_type": "markdown",
   "id": "18a73f25",
   "metadata": {},
   "source": [
    "The third covariance matrix estimation method is the factor model. In this approach, the number of factors is set equal to the number of forecasts, 25. The factor loadings are determined through the singular value decomposition of the matrix consisting of the estimation errors for all forecasts. Using the factor loadings, the factor variances can be estimated, leading to an estimation of the factor covariance matrix, denoted as $\\widehat{\\Sigma}_{factor}$. A detailed description of the factor model can be found in the thesis."
   ]
  },
  {
   "cell_type": "code",
   "execution_count": 148,
   "id": "d843dee9",
   "metadata": {},
   "outputs": [],
   "source": [
    "def est_cov_factor(Merror):\n",
    "    \"\"\"\n",
    "    Estimate the covariance matrix using factor models.\n",
    "\n",
    "    Input:\n",
    "        Merror (list of arrays): List of forecast errors from different forecasters.\n",
    "        T (int): Number of observations.\n",
    "\n",
    "    Returns:\n",
    "        tuple: A tuple containing the estimated covariance matrix and the weight matrix.\n",
    "\n",
    "    \"\"\"\n",
    "    n_forecasters = len(Merror)\n",
    "    n_factors = n_forecasters  # Use the same number of factors as forecasters\n",
    "\n",
    "    # Compute the factor loadings using Singular Value Decomposition\n",
    "    _, singular_values, loadings = np.linalg.svd(Merror.T)\n",
    "    \n",
    "    # Extract the factor loadings from the SVD\n",
    "    factor_loadings = loadings[:, :n_factors]\n",
    "    \n",
    "    # Multiply Merror.T with the factor loadings to obtain the factor scores\n",
    "    factor_scores = np.dot(Merror.T, factor_loadings)\n",
    "    \n",
    "    # Estimate the factor variances\n",
    "    factor_variances = np.var(factor_scores, axis=0, ddof=1)\n",
    "    \n",
    "    # Multiply the factor loadings by diagonal matrix with factor variances and factor loadings.T\n",
    "    estimated_covariance = np.dot(factor_loadings, np.diag(factor_variances)).dot(factor_loadings.T)\n",
    "    \n",
    "    # Calculate the weights using the estimated covariance matrix\n",
    "    w = calc_cov_w(estimated_covariance)\n",
    "    \n",
    "    return estimated_covariance, w"
   ]
  },
  {
   "cell_type": "markdown",
   "id": "06d08fd6",
   "metadata": {},
   "source": [
    "Given the estimated weights, the forecast combination can be determined by:\n",
    "\\begin{align*}\n",
    "    y_{c}=\\mathbf{y}*\\mathbf{\\widehat{w}}\n",
    "\\end{align*}\n",
    "where $\\mathbf{y}$ represents the individual forecasts and $\\widehat{w}$ the estimated weight vector. In practise, the weights will often be trimmed before this function is used, leading to the used of $\\widehat{w}^{\\text{TR}}$."
   ]
  },
  {
   "cell_type": "code",
   "execution_count": 149,
   "id": "ee962c5c",
   "metadata": {},
   "outputs": [],
   "source": [
    "def calc_comb_forecast(VY, w):\n",
    "    \"\"\"\n",
    "    Calculates the combined forecast based on individual forecasts and corresponding weights.\n",
    "\n",
    "    Input:\n",
    "        VY (ndarray): A numpy array of shape (n, n_forecasters) containing the individual forecasts.\n",
    "        w (ndarray): A numpy array of shape (n_forecasters,) representing the weights for each forecaster.\n",
    "\n",
    "    Returns:\n",
    "        comb_forecast (ndarray): A numpy array of shape (n,) representing the combined forecast.\n",
    "\n",
    "    \"\"\"\n",
    "    yc = w[0] * VY[0]\n",
    "    for i in range(1,len(VY)):\n",
    "        yc = yc + w[i] * VY[i]\n",
    "    \n",
    "    return yc"
   ]
  },
  {
   "cell_type": "markdown",
   "id": "e811e58a",
   "metadata": {},
   "source": [
    "<div style=\"text-align:center\">\n",
    "  <h3>Simulation study Linear Shrinkage method</h3>\n",
    "</div>"
   ]
  },
  {
   "cell_type": "markdown",
   "id": "f9ef70d7",
   "metadata": {},
   "source": [
    "Given this theory and functions, it now becomes possible to perform a simulation study. The impact of the shrinkage parameter $\\delta$ on the Mean Squared Forecast Error (MSFE) function will be studied. The forecast combination is determined by the estimated weights. The covariance matrix used for the forecast combination is estimated by the linear shrinkage methods. To determine the effect of the shrinkage parameter, the MSFE function will be determined for various shrinkage parameters. \n",
    "These weights are trimmed by a threshold $c$, similar to Radchenko et al. (2023). Different trimming methods are discussed in the thesis. Trimming method 1 will be used in this simulation study. The trimmed weights are determined by:\n",
    "\n",
    "$$\n",
    "w^{\\text{TR1}}_i=\\alpha_1\\times\\left\\{\n",
    "\\begin{aligned}\n",
    "    \\widehat{w}_i&, \\quad \\widehat{w_i}> c \\\\\n",
    "    c&, \\quad \\widehat{w}_i\\leq c\n",
    "\\end{aligned}\n",
    "\\right.\n",
    "$$\n",
    "\n",
    "The MSFE function of the forecast combination of all $n$ timeseries is determined for these various shrinkage parameters. These MSFE functions are dependend on the trimming threshold $c$ as well. This way the impact of trimming will also be invastigated for all shrinkage parameters."
   ]
  },
  {
   "cell_type": "markdown",
   "id": "6a1590cc",
   "metadata": {},
   "source": [
    "The linear shrinkage is performed given a specific shrinkage parameter by the following function. Where the L2-norm between the estimated shrinkage matrix and the true covariance matrix is determined as well."
   ]
  },
  {
   "cell_type": "code",
   "execution_count": 150,
   "id": "35c75985",
   "metadata": {},
   "outputs": [],
   "source": [
    "def shrink_estimation(true_cov, Mcov_sample, shrink_value):\n",
    "    \"\"\"\n",
    "    Estimated the weights using the shrinkage covariance matrix.\n",
    "\n",
    "    Input:\n",
    "        true_cov (array): True covariance matrix.\n",
    "        Mcov_sample (list of arrays): Sample covariance matrices from different forecasters for all simulations n.\n",
    "        shrink_value (float): Shrinkage parameter.\n",
    "\n",
    "    Returns:\n",
    "        array: The shrinkage weight matrix for all simulations.\n",
    "\n",
    "    \"\"\"\n",
    "    n = len(Mcov_sample[0][0])   # define the number of simulations\n",
    "    n_forc = len(true_cov)       # the number of forecasts used\n",
    "    Vw = np.empty((0, n_forc))\n",
    "    l2_norm = np.zeros(n)        \n",
    "    \n",
    "    # Create a simple Merror for every n with the forecast errors\n",
    "    for i in range(n):\n",
    "        Mcov_temp = np.array([[element[i] for element in row] for row in Mcov_sample]) # Get for every simulation the proper \n",
    "        # sample cov matrix out of the list where all are stored\n",
    "        Mcov, w = est_cov_shrinkage(Mcov_temp, shrink_value)\n",
    "        Vw = np.vstack((Vw, w.T))\n",
    "        l2_norm[i] = np.linalg.norm(true_cov - Mcov) # the l2 norm between the true cov matrix and the estimated one\n",
    "    \n",
    "    print('shrink_value', shrink_value)\n",
    "    print('l2_norm', np.round(np.mean(l2_norm),4))\n",
    "    \n",
    "    return Vw"
   ]
  },
  {
   "cell_type": "code",
   "execution_count": 151,
   "id": "75f0cef0",
   "metadata": {},
   "outputs": [],
   "source": [
    "def calc_msfe(c, phi, T, n, n_forecasters, true_cov, shrink_values):\n",
    "    \"\"\"\n",
    "    Calculate the MSFE for different threshold values and shrinkage values.\n",
    "\n",
    "    Input:\n",
    "        c (array): Array of threshold values.\n",
    "        phi (float): Autoregressive coefficient for the AR(1 process).\n",
    "        T (int): Number of observations for estimating the forecast error. If put T = 30, it will result in the same number\n",
    "                 of observation as seen in the simulation of Radchenko et al. (2023), 28\n",
    "        n (int): Number of simulations.\n",
    "        n_forecasters (int): Number of forecasters.\n",
    "        true_cov (array): True covariance matrix.\n",
    "        shrink_values (array): Array of shrinkage values.\n",
    "\n",
    "    Returns:\n",
    "        array: Array of MSFE values for different threshold values and shrinkage values.\n",
    "\n",
    "    \"\"\"\n",
    "    rho2 = phi ** 2\n",
    "    z = simulate_ar1(phi, T, n, n_forecasters)\n",
    "    zf = [z[-1] for z in z]  # The T+1 value to be forecasted\n",
    "    z = np.delete(z, -1, axis=1) # delete this T+1 value from matrix\n",
    "    Vy, VY, Merror, mu = calc_forecast_errors(z, rho2, n_forecasters)\n",
    "    Mcov_sample, Vw_sample = est_cov_sample(Merror)\n",
    "    All_Vmsfe = np.empty((0, len(c)))\n",
    "    # Loop through different shrinkage values\n",
    "    for k in range(len(shrink_values)):\n",
    "        vW = shrink_estimation(true_cov, Mcov_sample, shrink_values[k])\n",
    "        vW = vW.T\n",
    "        Vmsfe = np.empty(len(c))\n",
    "        # Loop through different threshold values\n",
    "        for i in range(len(c)):\n",
    "            Vw_trimmed = np.where(vW < c[i], c[i], vW)\n",
    "            Vw_normalized = np.divide(Vw_trimmed, sum(Vw_trimmed))\n",
    "            yc2 = calc_comb_forecast(Vy, Vw_normalized)\n",
    "            error = np.power((zf - yc2), 2)\n",
    "            Vmsfe[i] = np.mean(error)\n",
    "        \n",
    "        All_Vmsfe = np.vstack((All_Vmsfe, Vmsfe.T))\n",
    "    \n",
    "    return All_Vmsfe"
   ]
  },
  {
   "cell_type": "markdown",
   "id": "3a9bc0a4",
   "metadata": {},
   "source": [
    "The simulation study can now be performed, using the previously defined functions. The MSFE will be determined for a setting where the autoregressive parameter for the AR(1) process is set to $\\phi_1 = -0.95$ since in the thesis is established that the optimal weight is negative when $\\rho > \\frac{\\sigma_2}{\\sigma_1}$. This holds for all $\\phi_1<0$. Since there are $25$ forecasts depended on a factor of $\\phi$, the phi value will need to be  $|\\phi|\\approx1$. So the first forecast still has a correlation of $-0.95^{25}=-0.278$ with last forecast before.\n",
    "\n",
    "The aim is to have the same number of error observations as used in the previous simulation. In the AR(1) simulation function the increased number of lags is accounted for. Therefore by setting $T=30$, this will result in the same number of available forecast error observations, a total of 28.  The MSFE will be determined for different shrinkage paremeters,$\\delta \\in [0,0.1, 0.2, 0.4, 0.6, 0.8,0.9, 1]$. Furtermore, MSFE functions of these shrinkanke parameters will be evaluated for trimming thresholds $c$ between $-1$ and $0$.  The number of simulation is set at $n=20000$, in order to control the simulation error. This is lower than before, since the estimation of the shrinkage matrices take a lot of calculation power. Lastly, as seen before, $\\rho_1 = \\phi_1$ and $\\rho_i = \\phi_1^i$. This results to: \n",
    "\n",
    "- $\\phi_1 = -0.95$\n",
    "- $T = 30$\n",
    "- $-1<c<0$\n",
    "- $\\delta \\in [0,0.1, 0.2, 0.4, 0.6, 0.8,0.9, 1]$\n",
    "- $n = 20000$\n",
    "- $\\rho_1 = \\phi_1$\n",
    "- $\\rho_i = \\phi_1^i$"
   ]
  },
  {
   "cell_type": "code",
   "execution_count": 152,
   "id": "0998358e",
   "metadata": {
    "scrolled": false
   },
   "outputs": [
    {
     "name": "stdout",
     "output_type": "stream",
     "text": [
      "shrink_value 0\n",
      "l2_norm 131.3961\n",
      "shrink_value 0.1\n",
      "l2_norm 126.0067\n",
      "shrink_value 0.2\n",
      "l2_norm 122.6323\n",
      "shrink_value 0.4\n",
      "l2_norm 123.312\n",
      "shrink_value 0.6\n",
      "l2_norm 136.1246\n",
      "shrink_value 0.8\n",
      "l2_norm 161.4047\n",
      "shrink_value 0.9\n",
      "l2_norm 177.2657\n",
      "shrink_value 1\n",
      "l2_norm 194.1603\n"
     ]
    }
   ],
   "source": [
    "phi = -0.95\n",
    "T = 30\n",
    "c = np.linspace(-1, 0, 61)\n",
    "n = 20000\n",
    "n_forecasters = 25\n",
    "shrink_values = [0,0.1, 0.2, 0.4, 0.6, 0.8,0.9, 1]\n",
    "true_cov = calc_true_cov(phi,n_forecasters)\n",
    "\n",
    "All_Vmsfe= calc_msfe(c,phi,T,n,n_forecasters,true_cov,shrink_values)"
   ]
  },
  {
   "cell_type": "markdown",
   "id": "8ed6f9a1",
   "metadata": {},
   "source": [
    "To illustrate the impact of the trimming method and the shrinking parameter on the MSFE of the forecast combination, this is plotted."
   ]
  },
  {
   "cell_type": "code",
   "execution_count": 153,
   "id": "fa630327",
   "metadata": {},
   "outputs": [],
   "source": [
    "def plot_msfe_shrnk(Vmsfe, c, shrink_value, n, n_forecasters, phi):\n",
    "    \"\"\"\n",
    "    Plot the MSFE for different shrinkage values and threshold values.\n",
    "\n",
    "    Input:\n",
    "        Vmsfe (array): Array of MSFE values for different threshold and shrinkage values.\n",
    "        c (array): Array of threshold values.\n",
    "        shrink_value (array): Array of shrinkage values.\n",
    "        n (int): Number of simulations.\n",
    "        n_forecasters (int): Number of forecasters.\n",
    "        phi (float): Autoregressive coefficient.\n",
    "\n",
    "    Returns:\n",
    "        None\n",
    "\n",
    "    \"\"\"\n",
    "    fig, ax = plt.subplots()\n",
    "    \n",
    "    # Plot MSFE for each shrinkage value\n",
    "    for i, array in enumerate(Vmsfe):\n",
    "        ax.plot(c, array, label='shrink value %.1f' % shrink_value[i])\n",
    "    \n",
    "    ax.set_xlabel('$C$')\n",
    "    ax.set_ylabel('MSFE')\n",
    "    plt.legend(loc='center left')\n",
    "    plt.show()"
   ]
  },
  {
   "cell_type": "code",
   "execution_count": 154,
   "id": "03f96e46",
   "metadata": {},
   "outputs": [
    {
     "data": {
      "image/png": "[encoded data removed]",
      "text/plain": [
       "<Figure size 640x480 with 1 Axes>"
      ]
     },
     "metadata": {},
     "output_type": "display_data"
    }
   ],
   "source": [
    "plot_msfe_shrnk(All_Vmsfe,c,shrink_values,n,n_forecasters,phi)"
   ]
  },
  {
   "cell_type": "markdown",
   "id": "a1d4d2dc",
   "metadata": {},
   "source": [
    "This plot is discussed in detail in the thesis. Both the L2-norm as the plot indicates that a shrinkage parameter of $\\delta=0.2$, performance best."
   ]
  },
  {
   "cell_type": "markdown",
   "id": "29329ad5",
   "metadata": {},
   "source": [
    "<div style=\"text-align:center\">\n",
    "  <h3>Simulation study of several covariance estimation methods</h3>\n",
    "</div>"
   ]
  },
  {
   "cell_type": "markdown",
   "id": "64d8b37f",
   "metadata": {},
   "source": [
    "In this simulation study, the aim is to determine the performance of different covariance estimation methods. Especially, the sample covariance method, the linear shrinkage method and the factor model. The details of these methods have already been discussed in this Notebook. In the previous simulation study, an optimal shrinkage parameter of $\\delta=0.2$ is found. This will be the parameter used in this simulation study. \n",
    "\n",
    "The simulation itself is similar to the previous one. With the same characteristics and parameters. As stated the shrinkage parameter is set at $\\delta=0.2$. Furthermore, this time the factor model covaraince matrix is included. This results to: \n",
    "\n",
    "- $\\phi_1 = -0.95$\n",
    "- $T = 30$\n",
    "- $-1<c<0$\n",
    "- $\\delta = 0.2$\n",
    "- $n = 20000$"
   ]
  },
  {
   "cell_type": "code",
   "execution_count": 155,
   "id": "6a9324bf",
   "metadata": {},
   "outputs": [],
   "source": [
    "def weight_cov_estimation(Merror, Vw_sample, true_cov, type_cov, Mcov_sample, shrink_value):\n",
    "    \"\"\"\n",
    "    Estimate the weight covariance using different covariance estimation methods.\n",
    "\n",
    "    Input:\n",
    "        Merror (array): Array of forecast errors.\n",
    "        Vw_sample (array): Array of weights determined by the sample covariance matrices.\n",
    "        true_cov (array): True covariance matrix.\n",
    "        type_cov (int): Type of covariance estimation method to be used.\n",
    "        Mcov_sample (array): Array of covariance matrix estimations.\n",
    "        shrink_value (float): Shrinkage value.\n",
    "\n",
    "    Returns:\n",
    "        Vw (array): Array of weights detemined by covariance matrix estimates.\n",
    "\n",
    "    \"\"\"\n",
    "    n = len(Mcov_sample[0][0])   # Define the number of simulations\n",
    "    n_forc = len(true_cov)       # The number of forecasts used\n",
    "    Vw = np.empty((0, n_forc))\n",
    "    l2_norm = np.zeros(n)\n",
    "\n",
    "    for i in range(n):          \n",
    "        # Create a single Merror for every n with the forecast errors\n",
    "        Merror_single = [matrix[i] for matrix in Merror] \n",
    "        Merror_single = np.vstack(Merror_single)\n",
    "\n",
    "        if type_cov == 0:\n",
    "            # Use the simple covariance matrix earlier determined\n",
    "            Mcov = np.array([[element[i] for element in row] for row in Mcov_sample])\n",
    "            w = Vw_sample[i]\n",
    "        elif type_cov == 1:\n",
    "            # Estimate covariance matrix using shrinkage\n",
    "            Mcov_temp = np.array([[element[i] for element in row] for row in Mcov_sample])\n",
    "            Mcov, w = est_cov_shrinkage(Mcov_temp, shrink_value)\n",
    "        elif type_cov == 2:\n",
    "            # Estimate covariance matrix using factor analysis\n",
    "            Mcov, w = est_cov_factor(Merror_single)\n",
    "\n",
    "        Vw = np.vstack((Vw, w.T))\n",
    "        l2_norm[i] = np.linalg.norm(true_cov - Mcov)\n",
    "\n",
    "    print('Covariance estimation type:', type_cov)\n",
    "    print('l2_norm:', np.round(np.mean(l2_norm), 4))\n",
    "    return Vw"
   ]
  },
  {
   "cell_type": "code",
   "execution_count": 156,
   "id": "f7efb051",
   "metadata": {},
   "outputs": [],
   "source": [
    "def calc_msfe2(c, phi, T, n, n_forecasters, true_cov, type_cov, shrink_value):\n",
    "    \"\"\"\n",
    "    Calculate the MSFE using weights determined by different covariance matrix estimation methods.\n",
    "\n",
    "    Input:\n",
    "        c (array): Array of threshold values.\n",
    "        phi (float): Autoregressive coefficient for the AR(1 process).\n",
    "        T (int): Number of observations for estimating the forecast error. If put T = 30, it will result in the same number\n",
    "                 of observation as seen in the simulation of Radchenko et al. (2023), 28\n",
    "        n (int): Number of simulations.\n",
    "        n_forecasters (int): Number of forecasters.\n",
    "        true_cov (array): True covariance matrix.\n",
    "        type_cov (array): Array of covariance estimation types.\n",
    "        shrink_value (float): Shrinkage value.\n",
    "\n",
    "    Returns:\n",
    "        All_Vmsfe (array): Array of MSFE values for each threshold and covariance estimation method.\n",
    "        \n",
    "    \"\"\"\n",
    "    rho2 = phi ** 2\n",
    "    z = simulate_ar1(phi, T, n, n_forecasters)\n",
    "    zf = [z[-1] for z in z]  # The T+1 value to be forecasted\n",
    "    z = np.delete(z, -1, axis=1)\n",
    "    Vy, VY, Merror, mu = calc_forecast_errors(z, rho2, n_forecasters)\n",
    "    Mcov_sample, Vw_sample = est_cov_sample(Merror)\n",
    "    All_Vmsfe = np.empty((0, len(c)))\n",
    "\n",
    "    for k in range(len(type_cov)):\n",
    "        vW = weight_cov_estimation(Merror, Vw_sample, true_cov, type_cov[k], Mcov_sample, shrink_value)\n",
    "        vW = vW.T\n",
    "        Vmsfe = np.empty(len(c))\n",
    "\n",
    "        for i in range(len(c)):\n",
    "            Vw_trimmed = np.where(vW < c[i], c[i], vW)\n",
    "            Vw_normalized = np.divide(Vw_trimmed, sum(Vw_trimmed))\n",
    "            yc2 = calc_comb_forecast(Vy, Vw_normalized)\n",
    "            error = np.power((zf - yc2), 2)\n",
    "            Vmsfe[i] = np.mean(error)\n",
    "\n",
    "        All_Vmsfe = np.vstack((All_Vmsfe, Vmsfe.T))\n",
    "\n",
    "    return All_Vmsfe"
   ]
  },
  {
   "cell_type": "code",
   "execution_count": 157,
   "id": "dd1f6d1d",
   "metadata": {
    "scrolled": true
   },
   "outputs": [
    {
     "name": "stdout",
     "output_type": "stream",
     "text": [
      "Covariance estimation type: 0\n",
      "l2_norm: 131.3961\n",
      "Covariance estimation type: 1\n",
      "l2_norm: 122.6323\n",
      "Covariance estimation type: 2\n",
      "l2_norm: 191.4751\n"
     ]
    }
   ],
   "source": [
    "phi = -0.95\n",
    "T = 30\n",
    "c = np.linspace(-1, 0, 61)\n",
    "n = 20000\n",
    "n_forecasters = 25\n",
    "shrink_value =  0.2\n",
    "true_cov = calc_true_cov(phi,n_forecasters)\n",
    "type_cov = [0,1,2]\n",
    "All_Vmsfe2 = calc_msfe2(c,phi,T,n,n_forecasters,true_cov,type_cov,shrink_value)"
   ]
  },
  {
   "cell_type": "markdown",
   "id": "908c5ff2",
   "metadata": {},
   "source": [
    "The MSFE functions will be plotted as well."
   ]
  },
  {
   "cell_type": "code",
   "execution_count": 158,
   "id": "5ddcadd4",
   "metadata": {},
   "outputs": [],
   "source": [
    "def plot_msfe_methods(Vmsfe, c, n, n_forecasters, phi, methods):\n",
    "    \"\"\"\n",
    "    Plot the MSFE using different covariance estimation methods.\n",
    "\n",
    "    Input:\n",
    "        Vmsfe (array): Array of MSFE values.\n",
    "        c (array): Array of threshold values.\n",
    "        n (int): Number of simulations.\n",
    "        n_forecasters (int): Number of forecasters.\n",
    "        phi (float): AR(1) parameter.\n",
    "        methods (array): Array of covariance estimation methods.\n",
    "\n",
    "    Returns:\n",
    "        None\n",
    "\n",
    "    \"\"\"\n",
    "    fig, ax = plt.subplots()\n",
    "    for i, array in enumerate(Vmsfe):\n",
    "        ax.plot(c, array, label=methods[i])\n",
    "\n",
    "    ax.set_xlabel('$C$')\n",
    "    ax.set_ylabel('MSFE')\n",
    "    plt.legend(loc='center left', bbox_to_anchor=(0.001, 0.63))\n",
    "    plt.title('MSFE Plot N:%d forecasters:%d phi:%.2f' % (n, n_forecasters, phi))\n",
    "    plt.show()"
   ]
  },
  {
   "cell_type": "code",
   "execution_count": 159,
   "id": "093945f0",
   "metadata": {},
   "outputs": [
    {
     "data": {
      "image/png": "[encoded data removed]",
      "text/plain": [
       "<Figure size 640x480 with 1 Axes>"
      ]
     },
     "metadata": {},
     "output_type": "display_data"
    }
   ],
   "source": [
    "methods = ['Sample covariance','Linear Shrinkage method','Factor model method' ]\n",
    "plot_msfe_methods(All_Vmsfe2,c,n,n_forecasters,phi,methods)"
   ]
  },
  {
   "cell_type": "markdown",
   "id": "48c1a74b",
   "metadata": {},
   "source": [
    "All these results are evaluated in detail in the thesis."
   ]
  }
 ],
 "metadata": {
  "kernelspec": {
   "display_name": "Python 3 (ipykernel)",
   "language": "python",
   "name": "python3"
  },
  "language_info": {
   "codemirror_mode": {
    "name": "ipython",
    "version": 3
   },
   "file_extension": ".py",
   "mimetype": "text/x-python",
   "name": "python",
   "nbconvert_exporter": "python",
   "pygments_lexer": "ipython3",
   "version": "3.8.8"
  }
 },
 "nbformat": 4,
 "nbformat_minor": 5
}
